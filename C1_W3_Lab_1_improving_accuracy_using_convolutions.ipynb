{
 "cells": [
  {
   "cell_type": "markdown",
   "metadata": {
    "colab_type": "text",
    "id": "view-in-github"
   },
   "source": [
    "<a href=\"https://colab.research.google.com/github/tschnormeier/tf-cv1/blob/main/C1_W3_Lab_1_improving_accuracy_using_convolutions.ipynb\" target=\"_parent\"><img src=\"https://colab.research.google.com/assets/colab-badge.svg\" alt=\"Open In Colab\"/></a>"
   ]
  },
  {
   "cell_type": "code",
   "execution_count": 2,
   "metadata": {
    "colab": {
     "base_uri": "https://localhost:8080/"
    },
    "id": "W-pRL1ShCO6p",
    "outputId": "2fe2045d-5989-49ae-f0ef-cdc6b4d1b9c3"
   },
   "outputs": [
    {
     "ename": "ModuleNotFoundError",
     "evalue": "No module named 'tensorflow'",
     "output_type": "error",
     "traceback": [
      "\u001b[1;31m---------------------------------------------------------------------------\u001b[0m",
      "\u001b[1;31mModuleNotFoundError\u001b[0m                       Traceback (most recent call last)",
      "\u001b[1;32m<ipython-input-2-47569e87279e>\u001b[0m in \u001b[0;36m<module>\u001b[1;34m\u001b[0m\n\u001b[1;32m----> 1\u001b[1;33m \u001b[1;32mimport\u001b[0m \u001b[0mtensorflow\u001b[0m \u001b[1;32mas\u001b[0m \u001b[0mtf\u001b[0m\u001b[1;33m\u001b[0m\u001b[1;33m\u001b[0m\u001b[0m\n\u001b[0m\u001b[0;32m      2\u001b[0m \u001b[1;32mimport\u001b[0m \u001b[0mnumpy\u001b[0m \u001b[1;32mas\u001b[0m \u001b[0mnp\u001b[0m\u001b[1;33m\u001b[0m\u001b[1;33m\u001b[0m\u001b[0m\n\u001b[0;32m      3\u001b[0m \u001b[1;32mfrom\u001b[0m \u001b[0mtensorflow\u001b[0m \u001b[1;32mimport\u001b[0m \u001b[0mkeras\u001b[0m\u001b[1;33m\u001b[0m\u001b[1;33m\u001b[0m\u001b[0m\n\u001b[0;32m      4\u001b[0m \u001b[1;32mimport\u001b[0m \u001b[0mmatplotlib\u001b[0m\u001b[1;33m.\u001b[0m\u001b[0mpyplot\u001b[0m \u001b[1;32mas\u001b[0m \u001b[0mplt\u001b[0m\u001b[1;33m\u001b[0m\u001b[1;33m\u001b[0m\u001b[0m\n\u001b[0;32m      5\u001b[0m \u001b[0mprint\u001b[0m\u001b[1;33m(\u001b[0m\u001b[0mtf\u001b[0m\u001b[1;33m.\u001b[0m\u001b[0m__version__\u001b[0m\u001b[1;33m)\u001b[0m\u001b[1;33m\u001b[0m\u001b[1;33m\u001b[0m\u001b[0m\n",
      "\u001b[1;31mModuleNotFoundError\u001b[0m: No module named 'tensorflow'"
     ]
    }
   ],
   "source": [
    "import tensorflow as tf\n",
    "import numpy as np\n",
    "from tensorflow import keras\n",
    "import matplotlib.pyplot as plt\n",
    "print(tf.__version__)\n"
   ]
  },
  {
   "cell_type": "markdown",
   "metadata": {
    "id": "-K1zPPFhn6Ji"
   },
   "source": [
    "# Ungraded Lab: Improving Computer Vision Accuracy using Convolutions\n",
    "# Shallow Neural Network\n",
    "(Course 1, Week 3, Reading4 -Try it yourself (Lab 1) use a convolutional network with FMNIST dataset)\n",
    "In the previous lessions, you saw how to do fashion recognition using a neural network containing three layers, - the input layer (in the shape of the data), the output layer (in the shape of the desired output) and only one hidden layer.  You experimented with the impact of dirrerent sizes of hidden layer, number of training epochs etc on the final accuracy.  For convenience, here's the entire code again.  Run it and take a note of the test accuracy that is printed out at the end.\n",
    "(original file found at URL: https://github.com/https-deeplearning-ai/tensorflow-1-public/blob/main/C1/W3/ungraded_labs/C1-W3_Lab_1_improving_accuracy_using_convolutions.ipynb )"
   ]
  },
  {
   "cell_type": "code",
   "execution_count": null,
   "metadata": {
    "colab": {
     "base_uri": "https://localhost:8080/"
    },
    "id": "M3xy01iSn-Wp",
    "outputId": "8668d521-208b-4385-f510-4ce87314ce35"
   },
   "outputs": [],
   "source": [
    "import tensorflow as tf\n",
    "\n",
    "\n",
    "import numpy as np\n",
    "from tensorflow import keras\n",
    "import matplotlib.pyplot as plt\n",
    "print(tf.__version__)\n"
   ]
  },
  {
   "cell_type": "code",
   "execution_count": null,
   "metadata": {
    "id": "qVh2I6bR300B"
   },
   "outputs": [],
   "source": [
    "# Define a call back class\n",
    "class myCallback(tf.keras.callbacks.Callback):\n",
    "    def on_epoch_end(self, epoch, logs={}):\n",
    "        if(logs.get('loss') < 0.4):\n",
    "            print(\"\\nLoss is low is cancelling training!\")\n",
    "            self.model.stop_training = True"
   ]
  },
  {
   "cell_type": "code",
   "execution_count": null,
   "metadata": {
    "id": "VWdVLT806uqB"
   },
   "outputs": [],
   "source": [
    "# Instantiate the call back class\n",
    "callbacks = myCallback()"
   ]
  },
  {
   "cell_type": "markdown",
   "metadata": {
    "id": "wJE5_u2DGbN5"
   },
   "source": [
    "## Load the fashion MNIST dataset"
   ]
  },
  {
   "cell_type": "code",
   "execution_count": 3,
   "metadata": {
    "id": "o8sKzcF0GT8T"
   },
   "outputs": [
    {
     "ename": "NameError",
     "evalue": "name 'tf' is not defined",
     "output_type": "error",
     "traceback": [
      "\u001b[1;31m---------------------------------------------------------------------------\u001b[0m",
      "\u001b[1;31mNameError\u001b[0m                                 Traceback (most recent call last)",
      "\u001b[1;32m<ipython-input-3-b4ef68fd9f61>\u001b[0m in \u001b[0;36m<module>\u001b[1;34m\u001b[0m\n\u001b[0;32m      1\u001b[0m \u001b[1;31m# Load fashion MNIST dataset and split into training and test sets\u001b[0m\u001b[1;33m\u001b[0m\u001b[1;33m\u001b[0m\u001b[1;33m\u001b[0m\u001b[0m\n\u001b[1;32m----> 2\u001b[1;33m \u001b[0mfmnist\u001b[0m \u001b[1;33m=\u001b[0m \u001b[0mtf\u001b[0m\u001b[1;33m.\u001b[0m\u001b[0mkeras\u001b[0m\u001b[1;33m.\u001b[0m\u001b[0mdatasets\u001b[0m\u001b[1;33m.\u001b[0m\u001b[0mfashion_mnist\u001b[0m\u001b[1;33m\u001b[0m\u001b[1;33m\u001b[0m\u001b[0m\n\u001b[0m\u001b[0;32m      3\u001b[0m \u001b[1;33m(\u001b[0m\u001b[0mtraining_images\u001b[0m\u001b[1;33m,\u001b[0m \u001b[0mtraining_labels\u001b[0m\u001b[1;33m)\u001b[0m\u001b[1;33m,\u001b[0m \u001b[1;33m(\u001b[0m\u001b[0mtest_images\u001b[0m\u001b[1;33m,\u001b[0m \u001b[0mtest_labels\u001b[0m\u001b[1;33m)\u001b[0m \u001b[1;33m=\u001b[0m \u001b[0mfmnist\u001b[0m\u001b[1;33m.\u001b[0m\u001b[0mload_data\u001b[0m\u001b[1;33m(\u001b[0m\u001b[1;33m)\u001b[0m\u001b[1;33m\u001b[0m\u001b[1;33m\u001b[0m\u001b[0m\n\u001b[0;32m      4\u001b[0m \u001b[1;31m# (start of extra code from prior lab)\u001b[0m\u001b[1;33m\u001b[0m\u001b[1;33m\u001b[0m\u001b[1;33m\u001b[0m\u001b[0m\n\u001b[0;32m      5\u001b[0m \u001b[1;31m# you can put between 0 to 59999 here\u001b[0m\u001b[1;33m\u001b[0m\u001b[1;33m\u001b[0m\u001b[1;33m\u001b[0m\u001b[0m\n",
      "\u001b[1;31mNameError\u001b[0m: name 'tf' is not defined"
     ]
    }
   ],
   "source": [
    "# Load fashion MNIST dataset and split into training and test sets\n",
    "fmnist = tf.keras.datasets.fashion_mnist\n",
    "(training_images, training_labels), (test_images, test_labels) = fmnist.load_data()\n",
    "# (start of extra code from prior lab)\n",
    "# you can put between 0 to 59999 here\n",
    "index = 2\n",
    "# set the number of characters per row to display when printing\n",
    "np.set_printoptions(linewidth=320)  # for 28 bytes per line of output"
   ]
  },
  {
   "cell_type": "code",
   "execution_count": null,
   "metadata": {
    "id": "jU8YIn0hcguA"
   },
   "outputs": [],
   "source": [
    "# define the Fashion dataset names\n",
    "class_names = ['T-shirt/top', 'Trouser', 'Pullover', 'Dress', 'Coat',\n",
    "               'Sandal', 'Shirt', 'Sneaker', 'Bag', 'Ankle boot']"
   ]
  },
  {
   "cell_type": "markdown",
   "metadata": {
    "id": "lFoe2bqGI7hL"
   },
   "source": [
    "# Visualize an image"
   ]
  },
  {
   "cell_type": "code",
   "execution_count": null,
   "metadata": {
    "colab": {
     "base_uri": "https://localhost:8080/",
     "height": 821
    },
    "id": "PZ-mNgPMI2UM",
    "outputId": "76b7b586-1578-4fd7-8b49-3edda3c31c85"
   },
   "outputs": [],
   "source": [
    "# print the label and image\n",
    "print(f'LABEL: {training_labels[index]} is a {class_names[training_labels[index]]}')\n",
    "print(f'\\nImage Pixel Array:\\n {training_images[index]}')\n",
    "# visualize an image\n",
    "plt.imshow(training_images[index], cmap='Greys')"
   ]
  },
  {
   "cell_type": "code",
   "execution_count": null,
   "metadata": {
    "colab": {
     "base_uri": "https://localhost:8080/",
     "height": 589
    },
    "id": "Znk7xO6Ij8hU",
    "outputId": "c38cfe6e-a1f1-40b4-a6eb-7c119364471e"
   },
   "outputs": [],
   "source": [
    "# display first 25 images\n",
    "plt.figure(figsize=(10,10))\n",
    "for i in range(25):\n",
    "    plt.subplot(5,5,i+1)\n",
    "    plt.xticks([])\n",
    "    plt.yticks([])\n",
    "    plt.grid(False)\n",
    "    plt.imshow(training_images[i], cmap=plt.cm.binary)\n",
    "    plt.xlabel(class_names[training_labels[i]])\n",
    "plt.show()\n",
    "# (end of extra code from prior lab)"
   ]
  },
  {
   "cell_type": "code",
   "execution_count": null,
   "metadata": {
    "id": "KuV8GOvpKuvl"
   },
   "outputs": [],
   "source": [
    "# Normalize the pixel values of the training and testing images\n",
    "training_images = training_images / 255.0\n",
    "test_images  = test_images  / 255.0\n"
   ]
  },
  {
   "cell_type": "code",
   "execution_count": null,
   "metadata": {
    "id": "PcSPEd1uqRXo"
   },
   "outputs": [],
   "source": [
    "# Build a simple Sequential model\n",
    "model = tf.keras.models.Sequential([ tf.keras.layers.Flatten(),\n",
    "                                     tf.keras.layers.Dense(units=128, activation = tf.nn.relu),\n",
    "                                     tf.keras.layers.Dense(10, activation=tf.nn.softmax)])"
   ]
  },
  {
   "cell_type": "code",
   "execution_count": null,
   "metadata": {
    "id": "P91O3QnAGP6Q"
   },
   "outputs": [],
   "source": [
    "# Compile the model - Setup training parameters\n",
    "model.compile(optimizer=tf.optimizers.Adam(),\n",
    "              loss='sparse_categorical_crossentropy',\n",
    "              metrics=['accuracy'])"
   ]
  },
  {
   "cell_type": "code",
   "execution_count": null,
   "metadata": {
    "colab": {
     "base_uri": "https://localhost:8080/"
    },
    "id": "j_NkWvhyLMdn",
    "outputId": "694d9918-c563-4ecc-f1e9-ded5438f375c"
   },
   "outputs": [],
   "source": [
    "# modify the call to the fit() to use the callback\n",
    "# Train the model\n",
    "print(f'\\nMODEL TRAINING:')\n",
    "# model.fit(training_images, training_labels, epochs=5, callbacks = [callbacks])\n",
    "model.fit(training_images, training_labels, epochs=5 )"
   ]
  },
  {
   "cell_type": "code",
   "execution_count": null,
   "metadata": {
    "colab": {
     "base_uri": "https://localhost:8080/"
    },
    "id": "wESB49i2kKsX",
    "outputId": "6d5ddfd0-f5ca-43e2-c7c6-5057ca6ab2b7"
   },
   "outputs": [],
   "source": [
    "# Evaluate on the test set\n",
    "print(f'\\nMODEL EVALUATION')\n",
    "test_loss = model.evaluate(test_images, test_labels)"
   ]
  },
  {
   "cell_type": "markdown",
   "metadata": {
    "id": "2W9Hf5LFuByq"
   },
   "source": [
    "# Convolutional Neural Network\n",
    "In the model above, your accuracy will probably be about 89% on training and 87% on validation.  Not bad.  But how do you make that even better?  One way is to use something called convolutions.  We're not going into the details of convolutions in this notebook (please see resources in the classroom), but the ultimate concept is that they narrow down the content of the image to focus on specific parts and this will likely improve the model accuracy.\n",
    "\n",
    "if you've ever done image processing using a filter \n",
    "(like this URL: \"https://en.wikipedia.org/wiki/Kernel_(image_processing\" ) then convolutions will look very familiar.  In short, you take an array (usually 3x3 or 5x5) and scan it over the entire image.  By changing the underlying pixels based on the formula within that matrix, you can do things like edge detection.  So, for example, if you look at the above link, you'll see a 3x3 matrix that is defined for edge detection where the middle cell is 8, and all of its neighbors are -1.  In this case, for each pixel, you would multiply its value by 8, then subtract the value of each neighbor.  Do this for every pixel, and you'll end up with a new image that has the edges enhanced.\n",
    "\n",
    "This is perfect for computer vision because it often highlights features that distinguish one item from another.  Moreover, the amount of information needed is then much less because you'll just train on the highlighted features.\n",
    "\n",
    "That's the concept of Convolutional Neural Networks.  Add some layers to do convolutions before you have the dense layers, and then the information going to the dense layers is more focused and possibly more accurate.\n",
    "\n",
    "Run the code below.  This is the same neural network as earlier, but this time with Convolution and MaxPooling layers added first.  It will take longer, but look at the impact on the accuracy."
   ]
  },
  {
   "cell_type": "code",
   "execution_count": null,
   "metadata": {
    "id": "Gez5X0kEuyXR"
   },
   "outputs": [],
   "source": [
    "# Define the model using a CNN\n",
    "model = tf.keras.models.Sequential([\n",
    "                    # Add convolutions and max pooling layers\n",
    "                    tf.keras.layers.Conv2D(64, (3,3), activation='relu', input_shape=(28, 28, 1)),\n",
    "                    tf.keras.layers.MaxPooling2D(2, 2),\n",
    "                    tf.keras.layers.Conv2D(64, (3,3), activation='relu'),\n",
    "                    tf.keras.layers.MaxPooling2D(2,2),\n",
    "                    # Add the same layers as before\n",
    "                    keras.layers.Flatten(),\n",
    "                              keras.layers.Dense(units=512, activation = tf.nn.relu),\n",
    "                              keras.layers.Dense(10, activation=tf.nn.softmax)\n",
    "])"
   ]
  },
  {
   "cell_type": "code",
   "execution_count": null,
   "metadata": {
    "colab": {
     "base_uri": "https://localhost:8080/"
    },
    "id": "SNh3iW4_xpbi",
    "outputId": "c66212f0-b34d-4d4c-e69c-cad996cac844"
   },
   "outputs": [],
   "source": [
    "# Print the model summary\n",
    "model.summary()"
   ]
  },
  {
   "cell_type": "code",
   "execution_count": null,
   "metadata": {
    "colab": {
     "base_uri": "https://localhost:8080/"
    },
    "id": "ReQFNKsGzVRg",
    "outputId": "b32cb4dc-2138-408c-ce80-8999a88633cf"
   },
   "outputs": [],
   "source": [
    "# Use the same settings\n",
    "model.compile(optimizer='adam', loss='sparse_categorical_crossentropy', metrics=['accuracy'])\n",
    "\n",
    "# Train the model\n",
    "print(f'\\nMODEL TRAINING:')\n",
    "model.fit(training_images, training_labels, epochs=5)\n",
    "\n",
    "# Evaluate on the test set\n",
    "print(f'\\nMODEL EVALUATION:')\n",
    "test_loss = model.evaluate(test_images, test_labels)"
   ]
  },
  {
   "cell_type": "markdown",
   "metadata": {
    "id": "UyfCG1Ls4lnl"
   },
   "source": [
    "It's likely gone up to about 92% on the training data and 90% on the validation data.  That's significant, and a step in the right direction!\n",
    "Look at the code again, and see, step by step how the convolutions were built.  Instead of the input layer at the top, you added a Conv2D layer.\n",
    "The parameters are:\n",
    "1) The number of convolutions you want to generate.  The value here is purely arbitrary but it's good to use powers of 2 starting from 32.\n",
    "2) The size of the Convolution.  In this case, a 3x3 grid.\n",
    "3) The activation function to use.  In this case, you used a ReLU, which you might recall is the equivalent of returning x when x > 0, else return 0.\n",
    "4) In the first layer, the shape of the input data.\n",
    "\n",
    "You'll follow the convolution with a MaxPool2D layer which is designed to compress the image, while maintaining the content of the features that were highlighted by the convolution.  By specifying (2,2) for the MaxPooling, the effect is to quarter the size of the image.  Without going into too much detail here, the idea is that it creates a 2x2 array of pixels, and picks the biggest one (i.e. the Max pixel).  Thus, it turns 4 pixels into 1.  It repeats this across the image, and in doing so, it halves both the number of horizontal and vertical pixels, efectively reducing the image to 25% of the original image.\n",
    "\n",
    "You can call model.summary() to see the size and shape of the network, and you'll notice that after every max polling layer, the image size is reduced in this way.\n",
    "\n",
    "model = tf.keras.models.Sequential([\n",
    "  tf.keras.layers.Conv2D(32, (3,3), activation='relu', input_shape=(28,28,1),\n",
    "  tf.keras.layers.MaxPooling2D(2,2),\n",
    "\n",
    "Then you added another convolution, pooling, and flattened the output.\n",
    "\n",
    "  tf.keras.layers.Conv2E(64, (3,3), activation='relu'),\n",
    "  tf.keras.layers.MaxPooling2D(2,2),\n",
    "  tf.keras.layers.Flatten(),\n",
    "\n",
    "After this, you'll just have the same DNN structure as the non convolutional version.  The same 128 dense layers, and 10 output layers as in the pre-convolution example.\n",
    "\n",
    "  tf.keras.layers.Dense(128, activation='relu'),\n",
    "  tf.keras.layers.Dense( 10, activation='softmax')\n",
    "])\n",
    "\n",
    "# About Overfitting\n",
    "Try running the training for more epochs - say about 20, and explore the results.  But while the results might seem really good, the validation results may actually go down, due to something called overfitting.  In a nutshell, overfitting occurs when the network learns the data from the training set really well, but it's too specialised to only that data, and as a reult is less effective at interpreting other unseen data.  For example, if all your life you only saw red shoes, then when you see a red shoe you would be very good at identifying it.  But a blue suede shoes might confuse you... and yo know you should never mess with my blue suede shoes.\n",
    "# Visualizing the Convolutions and Pooling\n",
    "Let's explore how to show the convolutions graphically.  The cell below prints the first 100 labels in the test set, and you can see that the ones at index 0, index 23, and index 28 are all the same value (i.e. 9).  They're all shoes.  Let's take a look at the result of running the convolution on each, and you'll begin to see common features betwen them emerge.  Now, when the dense layer is training on that data, it's working with a lot less, and it's perhaps finding a commonality between shoes based on this convolution / pooling combination.\n",
    "\n"
   ]
  },
  {
   "cell_type": "code",
   "execution_count": null,
   "metadata": {
    "id": "eZDtg4chAYQG"
   },
   "outputs": [],
   "source": [
    "# add two lines of hearders for help count the index values\n",
    "h1, h2 = \"*\", \"*\"\n",
    "for i in range(0, 10):\n",
    "    h1 = h1 + ( 10 * (str(i) + \" \"))\n",
    "for i in range(0, 100):\n",
    "    h2 = h2 + ( str(i%10) + \" \")\n",
    "print(h1);print(h2)\n",
    "\n",
    "print(test_labels[:100])\n"
   ]
  },
  {
   "cell_type": "code",
   "execution_count": null,
   "metadata": {},
   "outputs": [],
   "source": [
    "import matplotlib.pyplot as plt\n",
    "from tensorflow.keras import models\n",
    "\n",
    "f, axarr = plt.subplots(3,4)\n",
    "\n",
    "FIRST_IMAGE = 0\n",
    "SECOND_IMAGE = 23\n",
    "THIRD_IMAGE = 28\n",
    "CONVOLUTION_NUMBER = 1\n",
    "\n",
    "layer_outputs = [layer.output for layer in model.layers]\n",
    "activation_model = tf.keras.models.Model(inputs = model.input, outputs = layer_outputs)\n",
    "\n",
    "for x in range(0,4):\n",
    "    f1 = activation_model.predict(test_images[FIRST_IMAGE].reshape(1, 28, 28, 1))[x]\n",
    "    axarr[0,x].imshow(f1[0, :, :, CONVOLUTION_NUMBER], cmap='inferno')\n",
    "    axarr[0,x].grid(False)\n",
    "    \n",
    "    f2 = activation_model.predict(test_images[SECOND_IMAGE].reshape(1, 28, 28, 1))[x]\n",
    "    axarr[1,x].imshow(f2[0, : , :, CONVOLUTION_NUMBER], cmap='inferno')\n",
    "    axarr[1,x].grid(False)\n",
    "    \n",
    "    f3 = activation_model.predict(test_images[THIRD_IMAGE].reshape(1, 28, 28, 1))[x]\n",
    "    axarr[2,x].imshow(f3[0, : , : , CONVOLUTION_NUMBER], cmap='inferno')\n",
    "    axarr[2,x].grid(False)"
   ]
  },
  {
   "cell_type": "markdown",
   "metadata": {},
   "source": [
    "# Exercises\n",
    "1. Try editing the convolutions.  Change the 32x to either 16 or 64.  What impact will this have on accuracy and / or training time.\n",
    "\n",
    "2. Remove the final Convolution.  What impact will this have on accuracy or training time?\n",
    "\n",
    "3. How about adding more Convolutions?  What impact do you this this will have?  Experiment with it.\n",
    "\n",
    "4. Remove all Convolutions but the first.  What impact do you think this will have?  Experiment with it.\n",
    "\n",
    "5. In the previous lesson you implemented a callback on the loss function and to cancel training once it hit a certain amount.  See if you can implement that here.\n"
   ]
  },
  {
   "cell_type": "code",
   "execution_count": null,
   "metadata": {},
   "outputs": [],
   "source": []
  }
 ],
 "metadata": {
  "colab": {
   "authorship_tag": "ABX9TyOUsnbbzFNxFnXuUuXBvQ6M",
   "collapsed_sections": [],
   "include_colab_link": true,
   "name": "C1_W3_Lab_1_improving_accuracy_using_convolutions.ipynb",
   "provenance": []
  },
  "kernelspec": {
   "display_name": "Python 3",
   "language": "python",
   "name": "python3"
  },
  "language_info": {
   "codemirror_mode": {
    "name": "ipython",
    "version": 3
   },
   "file_extension": ".py",
   "mimetype": "text/x-python",
   "name": "python",
   "nbconvert_exporter": "python",
   "pygments_lexer": "ipython3",
   "version": "3.8.5"
  }
 },
 "nbformat": 4,
 "nbformat_minor": 1
}
